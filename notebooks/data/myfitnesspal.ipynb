{
 "cells": [
  {
   "cell_type": "code",
   "execution_count": null,
   "metadata": {},
   "outputs": [],
   "source": [
    "import os\n",
    "import myfitnesspal\n",
    "from datetime import datetime"
   ]
  },
  {
   "cell_type": "code",
   "execution_count": null,
   "metadata": {},
   "outputs": [],
   "source": []
  },
  {
   "cell_type": "code",
   "execution_count": null,
   "metadata": {},
   "outputs": [],
   "source": [
    "username = os.getenv('MYFITNESSPAL_USERNAME')\n",
    "password = os.getenv('MYFITNESSPAL_PASSWORD')\n",
    "client = myfitnesspal.Client(username, password=password)\n"
   ]
  },
  {
   "cell_type": "code",
   "execution_count": null,
   "metadata": {},
   "outputs": [],
   "source": [
    "response = dict()"
   ]
  },
  {
   "cell_type": "code",
   "execution_count": null,
   "metadata": {},
   "outputs": [],
   "source": [
    "response['today'] = datetime.today().strftime('%Y-%m-%d')"
   ]
  },
  {
   "cell_type": "code",
   "execution_count": null,
   "metadata": {},
   "outputs": [],
   "source": [
    "day = client.get_date(*response['today'].split('-'))"
   ]
  },
  {
   "cell_type": "code",
   "execution_count": null,
   "metadata": {},
   "outputs": [],
   "source": [
    "response['total_calories'] = int(day.totals['calories'])\n",
    "print(f\"Calories: {response['total_calories']} kcal\")"
   ]
  },
  {
   "cell_type": "code",
   "execution_count": null,
   "metadata": {},
   "outputs": [],
   "source": [
    "response['total_quantity'] = 0\n",
    "for meal in day.meals:\n",
    "    for entry in meal.entries:\n",
    "        if entry.unit == 'g' or entry.unit == 'serving(s)':\n",
    "            response['total_quantity'] += int(entry.quantity)\n",
    "        else:\n",
    "            raise Exception(f'Uses non-standard unit: {entry.unit}')\n",
    "print(f\"Weight: {response['total_quantity']} g\")"
   ]
  },
  {
   "cell_type": "code",
   "execution_count": null,
   "metadata": {},
   "outputs": [],
   "source": [
    "if not response['total_quantity'] > 0:\n",
    "    raise Exception('No items found')\n",
    "response['average_calorie_density'] = response['total_calories'] / response['total_quantity']\n",
    "print(f\"Current Metabolic Rate: {response['average_calorie_density']}\")"
   ]
  },
  {
   "cell_type": "code",
   "execution_count": null,
   "metadata": {},
   "outputs": [],
   "source": []
  }
 ],
 "metadata": {
  "kernelspec": {
   "display_name": "Python 3",
   "language": "python",
   "name": "python3"
  },
  "language_info": {
   "codemirror_mode": {
    "name": "ipython",
    "version": 3
   },
   "file_extension": ".py",
   "mimetype": "text/x-python",
   "name": "python",
   "nbconvert_exporter": "python",
   "pygments_lexer": "ipython3",
   "version": "3.7.6"
  }
 },
 "nbformat": 4,
 "nbformat_minor": 4
}
