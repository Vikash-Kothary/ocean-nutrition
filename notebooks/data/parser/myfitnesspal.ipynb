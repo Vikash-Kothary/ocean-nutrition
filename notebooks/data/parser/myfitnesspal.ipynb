{
 "cells": [
  {
   "cell_type": "code",
   "execution_count": null,
   "metadata": {},
   "outputs": [],
   "source": [
    "cd ../../.."
   ]
  },
  {
   "cell_type": "markdown",
   "metadata": {},
   "source": [
    "# MyFitnessPal Parser"
   ]
  },
  {
   "cell_type": "code",
   "execution_count": null,
   "metadata": {},
   "outputs": [],
   "source": [
    "import os\n",
    "import requests\n",
    "from bs4 import BeautifulSoup"
   ]
  },
  {
   "cell_type": "markdown",
   "metadata": {},
   "source": [
    "## Login"
   ]
  },
  {
   "cell_type": "code",
   "execution_count": null,
   "metadata": {},
   "outputs": [],
   "source": [
    "sess = requests.Session()"
   ]
  },
  {
   "cell_type": "code",
   "execution_count": null,
   "metadata": {},
   "outputs": [],
   "source": [
    "url = 'https://www.myfitnesspal.com/account/login'\n",
    "headers = {\n",
    "    'user-agent': 'Mozilla/5.0 (Macintosh; Intel Mac OS X 10_15_5) AppleWebKit/537.36 (KHTML, like Gecko) Chrome/83.0.4103.116 Safari/537.36',\n",
    "}\n",
    "form_data = {\n",
    "    utf8 = '%E2%9C%93',\n",
    "    authenticity_token = '1FzuEG74QHbKD3%2FDFNpGLwIZ3ViBT%2B%2FVv1Re6TAQFpv6tcwjCUK%2F0sUeNTrizmEaPluQuvY3kKLxUJeRrHW1DA%3D%3D',\n",
    "    username = os.getenv('MYFITNESSPAL_USERNAME'),\n",
    "    password = os.getenv('MYFITNESSPAL_PASSWORD'),\n",
    "    remember_me = 1\n",
    "}\n",
    "page = sess.post(url, headers=headers, data=form_data)\n",
    "page.status_code"
   ]
  },
  {
   "cell_type": "code",
   "execution_count": null,
   "metadata": {},
   "outputs": [],
   "source": [
    "curl 'https://www.myfitnesspal.com/account/login' \\\n",
    "  -H 'authority: www.myfitnesspal.com' \\\n",
    "  -H 'cache-control: max-age=0' \\\n",
    "  -H 'upgrade-insecure-requests: 1' \\\n",
    "  -H 'origin: https://www.myfitnesspal.com' \\\n",
    "  -H 'content-type: application/x-www-form-urlencoded' \\\n",
    "  -H 'user-agent: Mozilla/5.0 (Macintosh; Intel Mac OS X 10_15_5) AppleWebKit/537.36 (KHTML, like Gecko) Chrome/83.0.4103.116 Safari/537.36' \\\n",
    "  -H 'accept: text/html,application/xhtml+xml,application/xml;q=0.9,image/webp,image/apng,*/*;q=0.8,application/signed-exchange;v=b3;q=0.9' \\\n",
    "  -H 'sec-fetch-site: same-origin' \\\n",
    "  -H 'sec-fetch-mode: navigate' \\\n",
    "  -H 'sec-fetch-user: ?1' \\\n",
    "  -H 'sec-fetch-dest: document' \\\n",
    "  -H 'referer: https://www.myfitnesspal.com/account/login' \\\n",
    "  -H 'accept-language: en-GB,en-US;q=0.9,en;q=0.8' \\\n",
    "  -H 'cookie: notice_behavior=expressed,eu; _pxvid=620e1080-c68b-11ea-ae0f-0242ac12000e; notice_preferences=2:; notice_gdpr_prefs=0,1,2:; last_login_date=2020-07-15; p=HGRkDX6clBw2TVCj4dSQ79YO; known_user=31358887; session_event_session_start_website_19247403895997=true; OX_sd=1; __stripe_mid=1ca98fd8-bc5d-4b25-9943-be404b9d1caf; __stripe_sid=f01472e7-0061-48bf-ae9e-4b022c7ede35; has_seen_premium_interstitial-19247403895997=true; _mfp_session=VUt3KzdTYTFYbzF5V0RybzIrb1dZcHVNZWhPQktxallDeml5MGJuVHo0YnlEc2xwcUhpTjZvUUJBL00rNVg4SEY5VWhadjVVVWlZS1RPNUFkaVByaGFYK2dkOS9NNGpGM25YNS9VajdmYS9ISFJPSml4VmJlaTlHeG1LSExWSlVkUFNsTklSRDg2V3MxTlpLbEVoNzZrVnFZS2ErZnorQWJWTFprSGY0WmNNSzg2a2RmUGgybnhhTkF4bzgrNkZRaFpkWEZFRkxZRnpZVzljWXM4U3J6SEtuN2twaHFBRm0vWnBqYk44Q1orNmxlSHo0RFdyMlBqdHo5K0Q1MUVpUDNYeFIvUys0SHFxMUlvVUErWG1GWFplaTJLVEF4MjJCUkJrQUtlTnNJQ3dLeDlIYXpoeStISG04YlQrQUFBR1JBUUhiU3QySGpJOXRpdlpPYUtabXVqdWFvMFhyQTN1T1pBTEFxQitFaUlwN2FhQUM1dFkvaHMrYnRlc1daNGNDZkpwaWRDNlc3RElmdjMxSm5VaTN4MCtRdWJjVVl1aWFhbkhiNy9aR045U3pNS1pxeldxU2liVDdQWGNIT1d2Zi0tVmFFeElkNVluaWNTN0hrd2NIbTJVZz09--490d408632142c7f6136928c942bb6b8fb16c685; _pxff_fp=1; _pxff_bsco=1; _px3=29164a8390a3b94d9657f648001c9e99462e83d5bc10205ce7565a6483986e6a:wXIMc4a0LyBrKn8vx6HEmL/0cMM/UQxp1oQUoi7IS+dpzvG/FHFGcumN3FUpqilAbbFb2j+O3FNJCDHEKg2PIA==:1000:z1/+HaW+bNxoaarrErsq4ooOyuziVEuKoUuuuQ6stYdsEu4qN9wik3WFUEIkbx7/b2nyESmQU7dasJWcm4DLydptxeyPHXDWEsummVbG608HJRWEX44jDUKpshF+iyoRKe5WhH5u7DY83mGWfXpeHA1YsyJrwSLizDiVS6C3+sE=' \\\n",
    "  --data-raw 'utf8=%E2%9C%93&authenticity_token=1FzuEG74QHbKD3%2FDFNpGLwIZ3ViBT%2B%2FVv1Re6TAQFpv6tcwjCUK%2F0sUeNTrizmEaPluQuvY3kKLxUJeRrHW1DA%3D%3D&username=kothary.vikash%40gmail.com&password=jalaram5&remember_me=1' \\\n",
    "  --compressed"
   ]
  },
  {
   "cell_type": "markdown",
   "metadata": {},
   "source": [
    "## Create a food"
   ]
  },
  {
   "cell_type": "code",
   "execution_count": null,
   "metadata": {},
   "outputs": [],
   "source": [
    "url = 'https://www.myfitnesspal.com/food/submit'\n",
    "headers = {\n",
    "    'user-agent': 'Mozilla/5.0 (Macintosh; Intel Mac OS X 10_15_5) AppleWebKit/537.36 (KHTML, like Gecko) Chrome/83.0.4103.116 Safari/537.36',\n",
    "}\n",
    "page = sess.get(url, headers=headers)\n",
    "page.status_code"
   ]
  },
  {
   "cell_type": "code",
   "execution_count": null,
   "metadata": {},
   "outputs": [],
   "source": [
    "soup = BeautifulSoup(page.text)"
   ]
  },
  {
   "cell_type": "code",
   "execution_count": null,
   "metadata": {},
   "outputs": [],
   "source": []
  }
 ],
 "metadata": {
  "kernelspec": {
   "display_name": "Python 3",
   "language": "python",
   "name": "python3"
  },
  "language_info": {
   "codemirror_mode": {
    "name": "ipython",
    "version": 3
   },
   "file_extension": ".py",
   "mimetype": "text/x-python",
   "name": "python",
   "nbconvert_exporter": "python",
   "pygments_lexer": "ipython3",
   "version": "3.7.6"
  }
 },
 "nbformat": 4,
 "nbformat_minor": 4
}
