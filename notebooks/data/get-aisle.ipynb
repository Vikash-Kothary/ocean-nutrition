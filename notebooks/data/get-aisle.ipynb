{
 "cells": [
  {
   "cell_type": "code",
   "execution_count": null,
   "metadata": {},
   "outputs": [],
   "source": [
    "cd ../.."
   ]
  },
  {
   "cell_type": "code",
   "execution_count": null,
   "metadata": {},
   "outputs": [],
   "source": [
    "import pandas as pd\n",
    "import time\n",
    "from random import random\n",
    "from pprint import pprint\n",
    "from helium import *"
   ]
  },
  {
   "cell_type": "code",
   "execution_count": null,
   "metadata": {},
   "outputs": [],
   "source": [
    "Config.implicit_wait_secs = 35\n",
    "headless = False\n",
    "helium_cheatsheet_url = 'https://github.com/mherrmann/selenium-python-helium/blob/master/doc/Cheatsheet.md'\n"
   ]
  },
  {
   "cell_type": "code",
   "execution_count": null,
   "metadata": {},
   "outputs": [],
   "source": [
    "driver = start_chrome(helium_cheatsheet_url, headless=headless)"
   ]
  },
  {
   "cell_type": "code",
   "execution_count": null,
   "metadata": {},
   "outputs": [],
   "source": [
    "def wait():\n",
    "    time.sleep(random() % 60)"
   ]
  },
  {
   "cell_type": "code",
   "execution_count": null,
   "metadata": {},
   "outputs": [],
   "source": [
    "url = 'https://www.tesco.com/groceries/en-GB/products/303869954'\n",
    "go_to(url)"
   ]
  },
  {
   "cell_type": "code",
   "execution_count": null,
   "metadata": {},
   "outputs": [],
   "source": [
    "nav_groceries = 'Groceries'\n",
    "click(Link(nav_groceries))"
   ]
  },
  {
   "cell_type": "code",
   "execution_count": null,
   "metadata": {},
   "outputs": [],
   "source": [
    "data = dict()\n",
    "nav_superdepartments = '.menu__item--superdepartment'\n",
    "for superdepartment in find_all(S(nav_superdepartments)):\n",
    "    data[superdepartment.web_element.text.split('\\n')[1]] = None \n",
    "data"
   ]
  },
  {
   "cell_type": "code",
   "execution_count": null,
   "metadata": {},
   "outputs": [],
   "source": [
    "nav_departments = '.menu__link--department'\n",
    "for superdepartment in data.keys():\n",
    "    click(superdepartment)\n",
    "    data_departments = dict()\n",
    "    for department in find_all(S(nav_departments)):\n",
    "        all_tags = department.web_element.text.split('\\n')\n",
    "        if len(all_tags) == 3:\n",
    "            data_departments[all_tags[1]] = None\n",
    "    data[superdepartment] = data_departments\n",
    "data"
   ]
  },
  {
   "cell_type": "code",
   "execution_count": null,
   "metadata": {},
   "outputs": [],
   "source": [
    "nav_aisles = '.menu__link--aisle'\n",
    "for superdepartment in data.keys():\n",
    "    print(f'{superdepartment}:')\n",
    "    click(superdepartment)\n",
    "    wait()\n",
    "    for department in data[superdepartment].keys():\n",
    "        print(f'- {department}:')\n",
    "        click(department)\n",
    "        wait()\n",
    "        data_aisle = dict()\n",
    "        for aisle in find_all(S(nav_aisles)):\n",
    "            all_tags = aisle.web_element.text.split('\\n')\n",
    "            if len(all_tags) == 3:\n",
    "                data_aisle[all_tags[1]] = aisle.web_element.get_attribute('href')\n",
    "        data[superdepartment][department] = data_aisle\n"
   ]
  },
  {
   "cell_type": "code",
   "execution_count": null,
   "metadata": {},
   "outputs": [],
   "source": []
  },
  {
   "cell_type": "code",
   "execution_count": null,
   "metadata": {},
   "outputs": [],
   "source": [
    "# data_aisle = list()\n",
    "# for aisle in find_all(S(nav_aisles)):\n",
    "#     all_tags = aisle.web_element.text.split('\\n')\n",
    "#     if len(all_tags) == 3:\n",
    "#         data_aisle.append(all_tags[1])\n",
    "# data['Inspiration & Events']['Shopping bundles'] = data_aisle"
   ]
  },
  {
   "cell_type": "code",
   "execution_count": null,
   "metadata": {},
   "outputs": [],
   "source": [
    "# kill_browser()"
   ]
  },
  {
   "cell_type": "code",
   "execution_count": null,
   "metadata": {},
   "outputs": [],
   "source": [
    "with open('data/raw/tesco-groceries/aisle.json', 'w+') as file:\n",
    "    json.dump(data, file, indent=4)"
   ]
  },
  {
   "cell_type": "code",
   "execution_count": null,
   "metadata": {},
   "outputs": [],
   "source": []
  }
 ],
 "metadata": {
  "kernelspec": {
   "display_name": "Python 3",
   "language": "python",
   "name": "python3"
  },
  "language_info": {
   "codemirror_mode": {
    "name": "ipython",
    "version": 3
   },
   "file_extension": ".py",
   "mimetype": "text/x-python",
   "name": "python",
   "nbconvert_exporter": "python",
   "pygments_lexer": "ipython3",
   "version": "3.7.6"
  }
 },
 "nbformat": 4,
 "nbformat_minor": 4
}
