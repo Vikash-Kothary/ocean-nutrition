{
 "cells": [
  {
   "cell_type": "code",
   "execution_count": null,
   "metadata": {},
   "outputs": [],
   "source": [
    "import os\n",
    "import myfitnesspal\n",
    "import openfoodfacts"
   ]
  },
  {
   "cell_type": "code",
   "execution_count": null,
   "metadata": {},
   "outputs": [],
   "source": [
    "response = dict()\n",
    "response['barcode'] = '5000137488905'"
   ]
  },
  {
   "cell_type": "code",
   "execution_count": null,
   "metadata": {},
   "outputs": [],
   "source": [
    "product = openfoodfacts.products.get_product(response['barcode'])\n",
    "response['product_name'] = product['product']['product_name']\n",
    "if not response['product_name']:\n",
    "    response['product_name'] = product['product']['product_name_fr']\n",
    "response['product_name']\n"
   ]
  },
  {
   "cell_type": "code",
   "execution_count": null,
   "metadata": {},
   "outputs": [],
   "source": [
    "if 'brands' in product['product']:\n",
    "    response['product_brand'] = product['product']['brands']\n",
    "else:\n",
    "    response['product_brand'] = ''\n",
    "response['product_brand']"
   ]
  },
  {
   "cell_type": "code",
   "execution_count": null,
   "metadata": {},
   "outputs": [],
   "source": [
    "product"
   ]
  },
  {
   "cell_type": "code",
   "execution_count": null,
   "metadata": {},
   "outputs": [],
   "source": [
    "assert product['status_verbose'] == 'product found'\n",
    "print(product['product']['nutrition_grades'])\n",
    "print(product['product']['nutriscore_data'])\n",
    "print(product['product']['allergens'])\n",
    "print(product['product']['nutrition_data_prepared_per'])\n",
    "print(product['product']['nutriscore_score'])"
   ]
  },
  {
   "cell_type": "code",
   "execution_count": null,
   "metadata": {},
   "outputs": [],
   "source": [
    "username = os.getenv('MYFITNESSPAL_USERNAME')\n",
    "password = os.getenv('MYFITNESSPAL_PASSWORD')\n",
    "client = myfitnesspal.Client(username, password=password)\n"
   ]
  },
  {
   "cell_type": "code",
   "execution_count": null,
   "metadata": {},
   "outputs": [],
   "source": [
    "results = client.get_food_search_results(f\"{response['product_brand']} {response['product_name']}\")\n",
    "results"
   ]
  },
  {
   "cell_type": "code",
   "execution_count": null,
   "metadata": {},
   "outputs": [],
   "source": [
    "match = results[0]\n",
    "response['verified'] = match.verified\n",
    "response['id'] = match.mfp_id\n",
    "response['brand'] = match.brand\n",
    "response['name'] = match.name\n",
    "response['quantity'] = '100g'\n",
    "response['calories'] = match.details[\"energy\"][\"value\"]\n",
    "response['protein'] = match.details[\"protein\"]\n",
    "response['fat'] = match.details[\"fat\"]\n",
    "response['carbohydrates'] = match.details[\"carbohydrates\"]\n",
    "response['fiber'] = match.details[\"fiber\"]\n",
    "response['sugar'] = match.details[\"sugar\"]\n",
    "# response['sodium'] = results[1].details[\"sodium\"]\n",
    "\n",
    "response['calorie_density'] = response['calories'] / response['quantity']\n",
    "\n",
    "\n"
   ]
  },
  {
   "cell_type": "code",
   "execution_count": null,
   "metadata": {},
   "outputs": [],
   "source": [
    "dir(match)"
   ]
  },
  {
   "cell_type": "code",
   "execution_count": null,
   "metadata": {},
   "outputs": [],
   "source": [
    "match.calories"
   ]
  },
  {
   "cell_type": "code",
   "execution_count": null,
   "metadata": {},
   "outputs": [],
   "source": [
    "response"
   ]
  },
  {
   "cell_type": "code",
   "execution_count": null,
   "metadata": {},
   "outputs": [],
   "source": []
  }
 ],
 "metadata": {
  "kernelspec": {
   "display_name": "Python 3",
   "language": "python",
   "name": "python3"
  },
  "language_info": {
   "codemirror_mode": {
    "name": "ipython",
    "version": 3
   },
   "file_extension": ".py",
   "mimetype": "text/x-python",
   "name": "python",
   "nbconvert_exporter": "python",
   "pygments_lexer": "ipython3",
   "version": "3.7.6"
  }
 },
 "nbformat": 4,
 "nbformat_minor": 4
}
