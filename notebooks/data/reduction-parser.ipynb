{
 "cells": [
  {
   "cell_type": "code",
   "execution_count": null,
   "metadata": {},
   "outputs": [],
   "source": [
    "cd ../.."
   ]
  },
  {
   "cell_type": "code",
   "execution_count": null,
   "metadata": {},
   "outputs": [],
   "source": [
    "import requests\n",
    "from bs4 import BeautifulSoup, Comment\n",
    "from IPython.core.display import display, HTML"
   ]
  },
  {
   "cell_type": "code",
   "execution_count": null,
   "metadata": {},
   "outputs": [],
   "source": [
    "url = 'https://www.tesco.com/groceries/en-GB/products/303869954'\n",
    "headers = {\n",
    "    'user-agent': 'Mozilla/5.0 (Macintosh; Intel Mac OS X 10_15_5) AppleWebKit/537.36 (KHTML, like Gecko) Chrome/83.0.4103.116 Safari/537.36',\n",
    "}\n",
    "page = requests.get(url, headers=headers)\n",
    "page.status_code"
   ]
  },
  {
   "cell_type": "code",
   "execution_count": null,
   "metadata": {},
   "outputs": [],
   "source": [
    "display(HTML(page.text))"
   ]
  },
  {
   "cell_type": "code",
   "execution_count": null,
   "metadata": {},
   "outputs": [],
   "source": [
    "soup = BeautifulSoup(page.text)"
   ]
  },
  {
   "cell_type": "code",
   "execution_count": null,
   "metadata": {},
   "outputs": [],
   "source": [
    "# Clear Tags\n",
    "for s in soup(text=lambda text: isinstance(text, Comment)):\n",
    "    s.extract()\n",
    "for s in soup.select('script'):\n",
    "    s.extract()\n",
    "for s in soup.select('meta'):\n",
    "    s.extract()\n",
    "for s in soup.select('link'):\n",
    "    s.extract()\n",
    "for s in soup.select('style'):\n",
    "    s.extract()\n",
    "for s in soup.select('head'):\n",
    "    s.extract()\n",
    "for s in soup.select('noscript'):\n",
    "    s.extract()\n",
    "for s in soup.select('svg'):\n",
    "    s.extract()\n",
    "# TMP\n",
    "for s in soup.select('nav'):\n",
    "    s.extract()\n",
    "for s in soup.select('section'):\n",
    "    s.extract()\n",
    "for s in soup.select('footer'):\n",
    "    s.extract()\n",
    "for s in soup.select('label'):\n",
    "    s.extract()\n",
    "for s in soup.select('button'):\n",
    "    s.extract()\n",
    "for s in soup.select('input'):\n",
    "    s.extract()"
   ]
  },
  {
   "cell_type": "code",
   "execution_count": null,
   "metadata": {},
   "outputs": [],
   "source": [
    "# Clear attributes\n",
    "removeAttributes = ['class', 'lang', 'data-base-static-url']\n",
    "for key in removeAttributes:\n",
    "    soup.select('html')[0].attrs.pop(key, None)\n",
    "removeAttributes = ['data-app-name', 'data-assets', 'data-base-path',\n",
    "                    'data-consumer', 'data-csrf-token', 'data-device',\n",
    "                    'data-environment', 'data-external-secure-domain',\n",
    "                    'data-features', 'data-grocery-domain',\n",
    "                    'data-icons-svg', 'data-language',\n",
    "                    'data-logged-in-action', 'data-login-domain',\n",
    "                    'data-page', 'data-props', 'data-redux-state',\n",
    "                    'data-region', 'data-timezone', 'data-user-details',\n",
    "                    'data-version', 'id'\n",
    "                   ]\n",
    "for key in removeAttributes:\n",
    "    soup.select('body')[0].attrs.pop(key, None)"
   ]
  },
  {
   "cell_type": "code",
   "execution_count": null,
   "metadata": {},
   "outputs": [],
   "source": [
    "# # # Clear by classes\n",
    "for s in soup.select('.visually-hidden'):\n",
    "    s.extract()"
   ]
  },
  {
   "cell_type": "code",
   "execution_count": null,
   "metadata": {},
   "outputs": [],
   "source": [
    "# Clear by attributes\n",
    "# aria-hidden"
   ]
  },
  {
   "cell_type": "code",
   "execution_count": null,
   "metadata": {},
   "outputs": [],
   "source": [
    "soup"
   ]
  },
  {
   "cell_type": "code",
   "execution_count": null,
   "metadata": {},
   "outputs": [],
   "source": [
    "display(HTML(soup.prettify()))"
   ]
  },
  {
   "cell_type": "code",
   "execution_count": null,
   "metadata": {},
   "outputs": [],
   "source": []
  }
 ],
 "metadata": {
  "kernelspec": {
   "display_name": "Python 3",
   "language": "python",
   "name": "python3"
  },
  "language_info": {
   "codemirror_mode": {
    "name": "ipython",
    "version": 3
   },
   "file_extension": ".py",
   "mimetype": "text/x-python",
   "name": "python",
   "nbconvert_exporter": "python",
   "pygments_lexer": "ipython3",
   "version": "3.7.6"
  }
 },
 "nbformat": 4,
 "nbformat_minor": 4
}
